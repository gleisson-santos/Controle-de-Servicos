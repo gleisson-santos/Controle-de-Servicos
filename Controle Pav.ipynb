{
 "cells": [
  {
   "cell_type": "markdown",
   "id": "d1bca529",
   "metadata": {},
   "source": [
    "### Controle de Serviços"
   ]
  },
  {
   "cell_type": "code",
   "execution_count": 2,
   "id": "742c730c",
   "metadata": {},
   "outputs": [],
   "source": [
    "import PySimpleGUI as sg\n",
    "from openpyxl import load_workbook\n",
    "import pandas as pd\n",
    "from datetime import datetime\n",
    "import datetime as dt\n",
    "\n",
    "sg.popup('Atenção!', 'Lembre de preencher todos os campos corretamente.Ex: Data = dd/mm/aaaa!')\n",
    "\n",
    "def criar_cadastro(): #função par criar tela\n",
    "    sg.theme('Reddit')   \n",
    "            \n",
    "    layout = [      \n",
    "        \n",
    "        [sg.Text('Informe os dados e Tipo do Serviço Executado')],\n",
    "        \n",
    "        [sg.Text('Tipo Pavimento',    size=(15, 1)), sg.Combo(['Asfaltico', 'Cimentado', 'Blocos'], key=\"tipo_pav\")],\n",
    "        [sg.Text('Equipe',            size=(15, 1)), sg.InputText(key=\"equipe\")],\n",
    "        [sg.Text('Data Lançamento',   size=(15, 1)), sg.InputText(key=\"data_lancamento\")],\n",
    "        [sg.Text('Metragem 1x',       size=(15, 1)), sg.InputText(key=\"metragem_1x\")],\n",
    "        [sg.Text('Metragem 2x',       size=(15, 1)), sg.InputText(key=\"metragem_2x\")],\n",
    "        [sg.Text('Priorizar',         size=(15, 1)), sg.InputText(key=\"priorizar\")],\n",
    "        [sg.Button('Adicionar Novo'), sg.Exit('Sair')]\n",
    "    ]\n",
    "\n",
    "                   \n",
    "    return sg.Window('Cadastro Serviço de Pavimento', layout=layout,finalize=True)\n",
    "\n",
    "\n",
    "def append_df_to_excel(df, excel_path):\n",
    "    df_excel = pd.read_excel(excel_path) #vai ler o arquivo criado\n",
    "    result = pd.concat([df_excel, df], ignore_index=True)\n",
    "    result.to_excel(excel_path, index=False)\n",
    "    \n",
    "    \n",
    "# Janela\n",
    "janela = criar_cadastro()\n",
    "lista_df = []\n",
    "while True:\n",
    "    event, values, = janela.read() #sai do aplicativo ao clicar no x\n",
    "    #if (event == sg.WINDOW_CLOSE_ATTEMPTED_EVENT or event == 'Sair') and sg.popup_yes_no('Deseja realmente sair?') == 'Yes':\n",
    "    if event == sg.WIN_CLOSED or event == 'Sair':\n",
    "        break \n",
    "    if event == 'Adicionar Novo':  #renovar a seção para inserir novos dados\n",
    "        janela.close()\n",
    "        janela = criar_cadastro()\n",
    "        \n",
    "    lista_apoio = []\n",
    "    \n",
    "    tipo_pav        = values['tipo_pav']\n",
    "    equipe          = values['equipe']\n",
    "    data_lancamento = values['data_lancamento']\n",
    "    metragem_1x     = values['metragem_1x']  #cadeias de keys\n",
    "    metragem_2x     = values['metragem_2x']\n",
    "    priorizar       = values['priorizar']\n",
    "    print(values)\n",
    "\n",
    "    lista_apoio.append(tipo_pav)\n",
    "    lista_apoio.append(equipe)\n",
    "    lista_apoio.append(data_lancamento)\n",
    "    lista_apoio.append(metragem_1x) #lista provisoria\n",
    "    lista_apoio.append(metragem_2x)\n",
    "    lista_apoio.append(priorizar)\n",
    "       \n",
    "    lista_df.append(lista_apoio)    #lista final\n",
    "    \n",
    "#Tratativa da planilha com Pandas\n",
    "\n",
    "df = pd.DataFrame(lista_df, columns=[\"Tipo do Pavimento\", \"Equipe\", \"Data Lançamento\", \"Metragem_1x\", \"Metragem_2x\", \"Priorizar\"])\n",
    "\n",
    "df['Data Atual'] = datetime.now().strftime('%d/%m/%Y')                            #criando coluna com a data atual\n",
    "df['Data Atual'] = pd.to_datetime(df['Data Atual'], format='%d/%m/%Y')              #convertendo coluna para data\n",
    "df['Data Lançamento'] = pd.to_datetime(df['Data Lançamento'], format='%d/%m/%Y')    #convertendo coluna para data\n",
    "df['Atraso'] = df['Data Atual'] - df['Data Lançamento']                             #criando coluna com dif de data\n",
    "\n",
    "append_df_to_excel(df, r\"Cadastro.xlsx\")\n",
    "\n",
    "janela.close()"
   ]
  }
 ],
 "metadata": {
  "kernelspec": {
   "display_name": "Python 3 (ipykernel)",
   "language": "python",
   "name": "python3"
  },
  "language_info": {
   "codemirror_mode": {
    "name": "ipython",
    "version": 3
   },
   "file_extension": ".py",
   "mimetype": "text/x-python",
   "name": "python",
   "nbconvert_exporter": "python",
   "pygments_lexer": "ipython3",
   "version": "3.9.7"
  },
  "vscode": {
   "interpreter": {
    "hash": "ae14f5a52c71856fadcc0d89f513b065912667f18ddee9bbe971748c8fd42e2f"
   }
  }
 },
 "nbformat": 4,
 "nbformat_minor": 5
}
